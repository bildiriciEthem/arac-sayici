{
 "cells": [
  {
   "cell_type": "code",
   "execution_count": 49,
   "metadata": {},
   "outputs": [
    {
     "ename": "KeyboardInterrupt",
     "evalue": "",
     "output_type": "error",
     "traceback": [
      "\u001b[1;31m---------------------------------------------------------------------------\u001b[0m",
      "\u001b[1;31mKeyboardInterrupt\u001b[0m                         Traceback (most recent call last)",
      "\u001b[1;32m<ipython-input-49-27ebe7194de4>\u001b[0m in \u001b[0;36m<module>\u001b[1;34m\u001b[0m\n\u001b[0;32m     23\u001b[0m     \u001b[0mgrey\u001b[0m \u001b[1;33m=\u001b[0m \u001b[0mcv2\u001b[0m\u001b[1;33m.\u001b[0m\u001b[0mcvtColor\u001b[0m\u001b[1;33m(\u001b[0m\u001b[0mframe1\u001b[0m\u001b[1;33m,\u001b[0m\u001b[0mcv2\u001b[0m\u001b[1;33m.\u001b[0m\u001b[0mCOLOR_BGR2GRAY\u001b[0m\u001b[1;33m)\u001b[0m \u001b[1;31m# frame'i griye cevirme\u001b[0m\u001b[1;33m\u001b[0m\u001b[1;33m\u001b[0m\u001b[0m\n\u001b[0;32m     24\u001b[0m     \u001b[0mblur\u001b[0m \u001b[1;33m=\u001b[0m \u001b[0mcv2\u001b[0m\u001b[1;33m.\u001b[0m\u001b[0mGaussianBlur\u001b[0m\u001b[1;33m(\u001b[0m\u001b[0mgrey\u001b[0m\u001b[1;33m,\u001b[0m\u001b[1;33m(\u001b[0m\u001b[1;36m3\u001b[0m\u001b[1;33m,\u001b[0m\u001b[1;36m3\u001b[0m\u001b[1;33m)\u001b[0m\u001b[1;33m,\u001b[0m\u001b[1;36m5\u001b[0m\u001b[1;33m)\u001b[0m \u001b[1;31m# frame'i yumusatma\u001b[0m\u001b[1;33m\u001b[0m\u001b[1;33m\u001b[0m\u001b[0m\n\u001b[1;32m---> 25\u001b[1;33m     \u001b[0mimg_sub\u001b[0m \u001b[1;33m=\u001b[0m \u001b[0msubtractor\u001b[0m\u001b[1;33m.\u001b[0m\u001b[0mapply\u001b[0m\u001b[1;33m(\u001b[0m\u001b[0mblur\u001b[0m\u001b[1;33m)\u001b[0m\u001b[1;33m\u001b[0m\u001b[1;33m\u001b[0m\u001b[0m\n\u001b[0m\u001b[0;32m     26\u001b[0m     \u001b[0mdilat\u001b[0m \u001b[1;33m=\u001b[0m \u001b[0mcv2\u001b[0m\u001b[1;33m.\u001b[0m\u001b[0mdilate\u001b[0m\u001b[1;33m(\u001b[0m\u001b[0mimg_sub\u001b[0m\u001b[1;33m,\u001b[0m\u001b[0mnp\u001b[0m\u001b[1;33m.\u001b[0m\u001b[0mones\u001b[0m\u001b[1;33m(\u001b[0m\u001b[1;33m(\u001b[0m\u001b[1;36m5\u001b[0m\u001b[1;33m,\u001b[0m\u001b[1;36m5\u001b[0m\u001b[1;33m)\u001b[0m\u001b[1;33m)\u001b[0m\u001b[1;33m)\u001b[0m \u001b[1;31m# frame'i genisletme\u001b[0m\u001b[1;33m\u001b[0m\u001b[1;33m\u001b[0m\u001b[0m\n\u001b[0;32m     27\u001b[0m     \u001b[0mkernel\u001b[0m \u001b[1;33m=\u001b[0m \u001b[0mcv2\u001b[0m\u001b[1;33m.\u001b[0m\u001b[0mgetStructuringElement\u001b[0m\u001b[1;33m(\u001b[0m\u001b[0mcv2\u001b[0m\u001b[1;33m.\u001b[0m\u001b[0mMORPH_ELLIPSE\u001b[0m\u001b[1;33m,\u001b[0m \u001b[1;33m(\u001b[0m\u001b[1;36m5\u001b[0m\u001b[1;33m,\u001b[0m \u001b[1;36m5\u001b[0m\u001b[1;33m)\u001b[0m\u001b[1;33m)\u001b[0m \u001b[1;31m# kernel olusturma\u001b[0m\u001b[1;33m\u001b[0m\u001b[1;33m\u001b[0m\u001b[0m\n",
      "\u001b[1;31mKeyboardInterrupt\u001b[0m: "
     ]
    }
   ],
   "source": [
    "import cv2\n",
    "import numpy as np\n",
    " \n",
    "\n",
    "detec = []\n",
    "toplam= 0\n",
    "giris=0\n",
    "cikis=0\n",
    "\n",
    "\t\n",
    "def ort_calc(x, y, w, h): # dortgenin orta noktasini buldurtma\n",
    "    x1 = int(w / 2)\n",
    "    y1 = int(h / 2)\n",
    "    cx = x + x1\n",
    "    cy = y + y1\n",
    "    return cx,cy\n",
    "\n",
    "cap = cv2.VideoCapture('video.mp4')\n",
    "subtractor = cv2.bgsegm.createBackgroundSubtractorMOG() # background segmentation\n",
    "\n",
    "while True:\n",
    "    ret , frame1 = cap.read() # frame yakalama\n",
    "    grey = cv2.cvtColor(frame1,cv2.COLOR_BGR2GRAY) # frame'i griye cevirme\n",
    "    blur = cv2.GaussianBlur(grey,(3,3),5) # frame'i yumusatma\n",
    "    img_sub = subtractor.apply(blur) \n",
    "    dilat = cv2.dilate(img_sub,np.ones((5,5))) # frame'i genisletme \n",
    "    kernel = cv2.getStructuringElement(cv2.MORPH_ELLIPSE, (5, 5)) # kernel olusturma\n",
    "    dilatada = cv2.morphologyEx (dilat, cv2. MORPH_CLOSE , kernel) \n",
    "    dilatada = cv2.morphologyEx (dilatada, cv2. MORPH_CLOSE , kernel)\n",
    "    contour,h=cv2.findContours(dilatada,cv2.RETR_TREE,cv2.CHAIN_APPROX_SIMPLE) # tespit\n",
    "    \n",
    "    cv2.line(frame1, (224,500), (550,500), (0,0,255), 2)# giris alt cizgisi\n",
    "    cv2.line(frame1, (225,510), (550,510), (0,0,255), 2)# giris üst cizgisi\n",
    "    \n",
    "\n",
    "    cv2.line(frame1, (650, 400), (650, 1000), (255, 255, 255), 2)#yon ayirma cizgisi\n",
    "    \n",
    "    cv2.line(frame1, (730, 544), (1050, 544), (0,0,255), 2) # cikis üst cizgisi\n",
    "    cv2.line(frame1, (730, 556), (1050, 556), (0,0,255), 2) # cikis üst cizgisi\n",
    "    for(i,c) in enumerate(contour):\n",
    "        (x,y,w,h) = cv2.boundingRect(c)\n",
    "        validar_contour = (80 >= 10) and (h >= 80) #hareketli nesneleri algılama hassasiyeti\n",
    "        if not validar_contour:\n",
    "            continue\n",
    "\n",
    "        cv2.rectangle(frame1,(x,y),(x+w,y+h),(0,255,0),2) # aracların etrafındaki dörtgeni cizdirme       \n",
    "        ort = ort_calc(x, y, w, h) # dörtgenin ortasını hesaplama\n",
    "        detec.append(ort) # listeye ekleme\n",
    "        cv2.circle(frame1, ort, 4, (0, 0,255), -1) # ortaya nokta cizdirme\n",
    "\n",
    "        for (vX,vY) in detec:\n",
    "            if vY > 500 and vY < 510:  # giris hesaplama // nokta giris cizgilerinin arasındaysa            \n",
    "                detec.remove((vX,vY))\n",
    "                if vX< 650: # serit ayirma cizgisinin solundaysa \n",
    "                        giris+=1\n",
    "                        toplam += 1\n",
    "                    \n",
    "            if vY > 544 and vY < 556: # cikis hesaplama // nokta cikis cizgilerinin arasindaysa               \n",
    "                detec.remove((vX,vY))\n",
    "                if vX> 650: # serit ayirma cizgisinin solundaysa\n",
    "                    cikis+=1\n",
    "                    toplam += 1\n",
    "                    \n",
    "       \n",
    "    cv2.putText(frame1, \"Giris : \"+str(giris)+' Cikis: '+str(cikis)+' Toplam: '+str(toplam), (250, 70), cv2.FONT_HERSHEY_SIMPLEX, 2, (0, 0, 255),5) # verileri yazdirma\n",
    "    cv2.imshow(\"Video\" , frame1) # videoyu gosterme\n",
    "    \n",
    "\n",
    "    if cv2.waitKey(1) == 27: # cikis icin '1' tuslama\n",
    "        break\n",
    "    \n",
    "cv2.destroyAllWindows()\n",
    "cap.release()\n"
   ]
  },
  {
   "cell_type": "code",
   "execution_count": null,
   "metadata": {},
   "outputs": [],
   "source": []
  },
  {
   "cell_type": "code",
   "execution_count": null,
   "metadata": {},
   "outputs": [],
   "source": []
  },
  {
   "cell_type": "code",
   "execution_count": null,
   "metadata": {},
   "outputs": [],
   "source": []
  }
 ],
 "metadata": {
  "kernelspec": {
   "display_name": "Python 3",
   "language": "python",
   "name": "python3"
  },
  "language_info": {
   "codemirror_mode": {
    "name": "ipython",
    "version": 3
   },
   "file_extension": ".py",
   "mimetype": "text/x-python",
   "name": "python",
   "nbconvert_exporter": "python",
   "pygments_lexer": "ipython3",
   "version": "3.8.3"
  }
 },
 "nbformat": 4,
 "nbformat_minor": 4
}
